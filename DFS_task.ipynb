{
 "cells": [
  {
   "cell_type": "code",
   "execution_count": 21,
   "metadata": {},
   "outputs": [],
   "source": [
    "import json"
   ]
  },
  {
   "cell_type": "code",
   "execution_count": 22,
   "metadata": {},
   "outputs": [],
   "source": [
    "data_dict = json.loads('[{\"name\": \"B\", \"parents\": [\"A\", \"C\"]},'\n",
    "                  '{\"name\": \"C\", \"parents\": [\"A\"]},'\n",
    "                  '{\"name\": \"A\", \"parents\": []},'\n",
    "                  '{\"name\": \"D\", \"parents\": [\"C\", \"F\"]},'\n",
    "                  '{\"name\": \"E\", \"parents\": [\"D\"]},'\n",
    "                  '{\"name\": \"F\", \"parents\": []}]')"
   ]
  },
  {
   "cell_type": "code",
   "execution_count": 23,
   "metadata": {},
   "outputs": [
    {
     "data": {
      "text/plain": [
       "[{'name': 'B', 'parents': ['A', 'C']},\n",
       " {'name': 'C', 'parents': ['A']},\n",
       " {'name': 'A', 'parents': []},\n",
       " {'name': 'D', 'parents': ['C', 'F']},\n",
       " {'name': 'E', 'parents': ['D']},\n",
       " {'name': 'F', 'parents': []}]"
      ]
     },
     "execution_count": 23,
     "metadata": {},
     "output_type": "execute_result"
    }
   ],
   "source": [
    "data_dict"
   ]
  },
  {
   "cell_type": "code",
   "execution_count": 24,
   "metadata": {},
   "outputs": [],
   "source": [
    "class_inheritance = {}\n",
    "classes = []"
   ]
  },
  {
   "cell_type": "code",
   "execution_count": 25,
   "metadata": {},
   "outputs": [],
   "source": [
    "def count_children(class_name, class_inheritancem, visited):\n",
    "    if class_name in visited:\n",
    "        return 0\n",
    "    visited.add(class_name)\n",
    " \n",
    "    if not class_name in class_inheritance:\n",
    "        return 1\n",
    "    else:\n",
    "        return 1 + sum([count_children(child, class_inheritance, visited) for child in class_inheritance[class_name]])"
   ]
  },
  {
   "cell_type": "code",
   "execution_count": 26,
   "metadata": {},
   "outputs": [
    {
     "name": "stdout",
     "output_type": "stream",
     "text": [
      "{'A': {'B', 'C'}, 'C': {'B', 'D'}, 'F': {'D'}, 'D': {'E'}}\n",
      "A: 5\n",
      "B: 1\n",
      "C: 4\n",
      "D: 2\n",
      "E: 1\n",
      "F: 3\n"
     ]
    }
   ],
   "source": [
    "for inheritance_info in data_dict:\n",
    "    class_name = inheritance_info['name']\n",
    "    parents = inheritance_info['parents']\n",
    "    classes.append(class_name)\n",
    "        # Reverse class -> parent relationship to be a grapth of parent -> class (child)\n",
    "    for parent in parents:\n",
    "        if not parent in class_inheritance:\n",
    "            class_inheritance[parent] = set()\n",
    "        class_inheritance[parent].add(class_name)\n",
    " \n",
    "print(class_inheritance)\n",
    "for class_name in sorted(classes):\n",
    "    visited = set()\n",
    "    print('%s: %d' % (class_name, count_children(class_name, class_inheritance, visited)))"
   ]
  }
 ],
 "metadata": {
  "kernelspec": {
   "display_name": "Python 3",
   "language": "python",
   "name": "python3"
  },
  "language_info": {
   "codemirror_mode": {
    "name": "ipython",
    "version": 3
   },
   "file_extension": ".py",
   "mimetype": "text/x-python",
   "name": "python",
   "nbconvert_exporter": "python",
   "pygments_lexer": "ipython3",
   "version": "3.7.1"
  }
 },
 "nbformat": 4,
 "nbformat_minor": 2
}

{
 "cells": [
  {
   "cell_type": "code",
   "execution_count": 1,
   "metadata": {},
   "outputs": [],
   "source": [
    "monoisotopic_masses = {\n",
    "    'A': 71.03711, 'C': 103.00919, 'D': 115.02694,\n",
    "    'E': 129.04259, 'F': 147.06841, 'G': 57.02146,\n",
    "    'H': 137.05891, 'I': 113.08406, 'K': 128.09496,\n",
    "    'L': 113.08406, 'M': 131.04049, 'N': 114.04293,\n",
    "    'P': 97.05276, 'Q': 128.05858, 'R': 156.10111,\n",
    "    'S': 87.03203, 'T': 101.04768, 'V': 99.06841,\n",
    "    'W': 186.07931, 'Y': 163.06333}"
   ]
  },
  {
   "cell_type": "code",
   "execution_count": 4,
   "metadata": {},
   "outputs": [],
   "source": [
    "parent_mass = 1988.21104821\n",
    "input_masses = [\n",
    "    610.391039105,\n",
    "    738.485999105,\n",
    "    766.492149105,\n",
    "    863.544909105,\n",
    "    867.528589105,\n",
    "    992.587499105,\n",
    "    995.623549105,\n",
    "    1120.6824591,\n",
    "    1124.6661391,\n",
    "    1221.7188991,\n",
    "    1249.7250491,\n",
    "    1377.8200091]"
   ]
  },
  {
   "cell_type": "code",
   "execution_count": 10,
   "metadata": {},
   "outputs": [
    {
     "name": "stdout",
     "output_type": "stream",
     "text": [
      "K\n",
      "R\n",
      "K\n",
      "E\n",
      "R\n",
      "P\n",
      "P\n",
      "E\n",
      "E\n",
      "K\n",
      "E\n",
      "K\n",
      "K\n",
      "E\n",
      "K\n",
      "E\n",
      "E\n",
      "P\n",
      "P\n",
      "R\n",
      "E\n",
      "K\n",
      "R\n",
      "K\n"
     ]
    }
   ],
   "source": [
    "diffs = []\n",
    "for i, x in enumerate(input_masses):\n",
    "    for j, y in enumerate(input_masses):\n",
    "        if i != j:\n",
    "            diffs.append(abs(x-y))\n",
    "            d = abs(y-x)\n",
    "            for a, b in monoisotopic_masses.items():\n",
    "                if abs(d - b) < 1e-5:\n",
    "                    print(a)\n",
    "                    break\n"
   ]
  }
 ],
 "metadata": {
  "kernelspec": {
   "display_name": "Python 3",
   "language": "python",
   "name": "python3"
  },
  "language_info": {
   "codemirror_mode": {
    "name": "ipython",
    "version": 3
   },
   "file_extension": ".py",
   "mimetype": "text/x-python",
   "name": "python",
   "nbconvert_exporter": "python",
   "pygments_lexer": "ipython3",
   "version": "3.7.1"
  }
 },
 "nbformat": 4,
 "nbformat_minor": 2
}
